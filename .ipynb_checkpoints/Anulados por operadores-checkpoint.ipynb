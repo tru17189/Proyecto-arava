{
 "cells": [
  {
   "cell_type": "code",
   "execution_count": 40,
   "id": "d72d1c17",
   "metadata": {},
   "outputs": [],
   "source": [
    "import pandas as pd"
   ]
  },
  {
   "cell_type": "code",
   "execution_count": 41,
   "id": "4be93fba",
   "metadata": {},
   "outputs": [],
   "source": [
    "import matplotlib.pyplot as plt"
   ]
  },
  {
   "cell_type": "code",
   "execution_count": 42,
   "id": "e0cb43c4",
   "metadata": {},
   "outputs": [
    {
     "name": "stdout",
     "output_type": "stream",
     "text": [
      "¿Que departamento vas a analizar? SEC\n"
     ]
    }
   ],
   "source": [
    "departamento_analizar = str(input(\"¿Que departamento vas a analizar? \"))"
   ]
  },
  {
   "cell_type": "code",
   "execution_count": 43,
   "id": "12fdf64f",
   "metadata": {},
   "outputs": [],
   "source": [
    "if departamento_analizar==\"CCO\" or departamento_analizar==\"cco\":\n",
    "    data = pd.read_excel (r'CCO/Recursos/OS_CCO.xlsx')\n",
    "    anulado_columna = data['Anualdo']\n",
    "    wo = data['WO']\n",
    "    nombres = data['Nombre del agente']\n",
    "elif departamento_analizar==\"CGO\" or departamento_analizar==\"cgo\":\n",
    "    data = pd.read_excel (r'CGO/Recursos/OS_CGO.xlsx')\n",
    "    anulado_columna = data['ANULADO']\n",
    "    wo = data['Title']\n",
    "    nombres = data['Nombre del supervisor']\n",
    "elif departamento_analizar==\"MANTO\" or departamento_analizar==\"manto\":\n",
    "    data = pd.read_excel (r'MANTO/Recursos/OS_MANTO.xlsx')\n",
    "    anulado_columna = data['Anulado']\n",
    "    wo = data['Title']\n",
    "    nombres = data['Nombre del agente']\n",
    "elif departamento_analizar==\"PXS\" or departamento_analizar==\"pxs\":\n",
    "    data = pd.read_excel (r'PXS/Recursos/OS_PXS.xlsx')\n",
    "    anulado_columna = data['Anulado']\n",
    "    wo = data['Title']\n",
    "    nombres = data['Nombre del supervisor']\n",
    "elif departamento_analizar==\"SAP\" or departamento_analizar==\"sap\":\n",
    "    data = pd.read_excel (r'SAP/Recursos/OS_SAP.xlsx')\n",
    "    anulado_columna = data['Anulado']\n",
    "    wo = data['Title']\n",
    "    nombres = data['Nombre del agente']\n",
    "elif departamento_analizar==\"SEC\" or departamento_analizar==\"sec\":\n",
    "    data = pd.read_excel (r'SEC/Recursos/OS_SEC.xlsx')\n",
    "    anulado_columna = data['ANULADO']\n",
    "    wo = data['WO']\n",
    "    nombres = data['Nombre del supervisor']"
   ]
  },
  {
   "cell_type": "code",
   "execution_count": 44,
   "id": "3ab44017",
   "metadata": {},
   "outputs": [
    {
     "name": "stdout",
     "output_type": "stream",
     "text": [
      "['NERY VALENZUELA', 'JAIME RAMIREZ', 'HENRY ALONZO', 'FREDY CAMACHO', 'LUCIANO MORALES', 'REYES MARTINEZ', 'AUGUSTO ACEVEDO', 'QUELVIN GARCIA']\n",
      "[19, 47, 21, 2, 33, 33, 6, 2]\n"
     ]
    }
   ],
   "source": [
    "numero_columnas = 0\n",
    "numero_actual = 0\n",
    "numero_anterior = 0\n",
    "nombres_agentes = []\n",
    "numero_documentos = []\n",
    "for i, e, c in zip(wo, anulado_columna, nombres):\n",
    "    numero_anterior = numero_actual\n",
    "    numero_actual = i\n",
    "    if numero_actual != numero_anterior and e==True:\n",
    "        numero_columnas += 1\n",
    "        if str(c) == 'nan':\n",
    "            pass\n",
    "        else:\n",
    "            if c not in nombres_agentes:\n",
    "                nombres_agentes.append(str(c))\n",
    "                numero_documentos.append(1)\n",
    "            else:\n",
    "                posicion = nombres_agentes.index(c)\n",
    "                numero_documentos[posicion] += 1"
   ]
  },
  {
   "cell_type": "code",
   "execution_count": null,
   "id": "2d5d6a00",
   "metadata": {},
   "outputs": [],
   "source": [
    "i = 0\n",
    "for a in nombres_agentes:\n",
    "    nombres_agentes[i] = nombres_agentes[i].replace(\" \", \"%\")\n",
    "    i += 1"
   ]
  },
  {
   "cell_type": "code",
   "execution_count": 46,
   "id": "19efeec2",
   "metadata": {},
   "outputs": [
    {
     "data": {
      "image/png": "[encoded data removed]",
      "text/plain": [
       "<Figure size 1116x468 with 1 Axes>"
      ]
     },
     "metadata": {
      "needs_background": "light"
     },
     "output_type": "display_data"
    }
   ],
   "source": [
    "plt.rcParams[\"figure.figsize\"] = [15.50, 6.50]\n",
    "plt.rcParams[\"figure.autolayout\"] = True\n",
    "plt.bar(nombres_agentes, numero_documentos, color='r')\n",
    "plt.grid()\n",
    "plt.show()"
   ]
  },
  {
   "cell_type": "code",
   "execution_count": null,
   "id": "35724554",
   "metadata": {},
   "outputs": [],
   "source": []
  }
 ],
 "metadata": {
  "kernelspec": {
   "display_name": "Python 3 (ipykernel)",
   "language": "python",
   "name": "python3"
  },
  "language_info": {
   "codemirror_mode": {
    "name": "ipython",
    "version": 3
   },
   "file_extension": ".py",
   "mimetype": "text/x-python",
   "name": "python",
   "nbconvert_exporter": "python",
   "pygments_lexer": "ipython3",
   "version": "3.10.4"
  }
 },
 "nbformat": 4,
 "nbformat_minor": 5
}
