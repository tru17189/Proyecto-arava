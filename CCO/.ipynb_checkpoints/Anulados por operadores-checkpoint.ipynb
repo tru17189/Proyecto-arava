{
 "cells": [
  {
   "cell_type": "code",
   "execution_count": 52,
   "id": "d72d1c17",
   "metadata": {},
   "outputs": [],
   "source": [
    "import pandas as pd"
   ]
  },
  {
   "cell_type": "code",
   "execution_count": 53,
   "id": "4be93fba",
   "metadata": {},
   "outputs": [],
   "source": [
    "import matplotlib.pyplot as plt"
   ]
  },
  {
   "cell_type": "code",
   "execution_count": null,
   "id": "e0cb43c4",
   "metadata": {},
   "outputs": [],
   "source": [
    "departamento_analizar = str(input(\"¿Que departamento vas a analizar? \"))"
   ]
  },
  {
   "cell_type": "code",
   "execution_count": 35,
   "id": "12fdf64f",
   "metadata": {},
   "outputs": [],
   "source": [
    "if departamento_analizar==\"CCO\" or departamento_analizar==\"cco\":\n",
    "    data = pd.read_excel (r'Recursos/OS_CCO.xlsx')\n",
    "    anulado_columna = data['Anualdo']\n",
    "elif departamento_analizar==\"CGO\" or departamento_analizar==\"cgo\":\n",
    "    data = pd.read_excel (r'Recursos/OS_CCO.xlsx')\n",
    "    anulado_columna = data['Anualdo']"
   ]
  },
  {
   "cell_type": "code",
   "execution_count": 44,
   "id": "3ab44017",
   "metadata": {},
   "outputs": [
    {
     "name": "stdout",
     "output_type": "stream",
     "text": [
      "['OSCAR GOMEZ', 'EMILIO CASTRO', 'DAVID SOLARES', 'MARIO LARIOS', 'RENE CASTRO', 'GABRIEL COLMENARES', 'ROBERTO GARCIA']\n",
      "[34, 54, 19, 18, 13, 5, 6]\n"
     ]
    }
   ],
   "source": [
    "numero_columnas = 0\n",
    "numero_actual = 0\n",
    "numero_anterior = 0\n",
    "nombres_agentes = []\n",
    "numero_documentos = []\n",
    "for i, e, c in zip(data['WO'], anulado_columna, data['Nombre del agente']):\n",
    "    numero_anterior = numero_actual\n",
    "    numero_actual = i\n",
    "    if numero_actual != numero_anterior and e==True:\n",
    "        numero_columnas += 1\n",
    "        if str(c) == 'nan':\n",
    "            pass\n",
    "        else:\n",
    "            if c not in nombres_agentes:\n",
    "                nombres_agentes.append(str(c))\n",
    "                numero_documentos.append(1)\n",
    "            else:\n",
    "                posicion = nombres_agentes.index(c)\n",
    "                numero_documentos[posicion] += 1\n",
    "\n",
    "print(nombres_agentes)\n",
    "print(numero_documentos)"
   ]
  },
  {
   "cell_type": "code",
   "execution_count": 51,
   "id": "19efeec2",
   "metadata": {},
   "outputs": [
    {
     "data": {
      "image/png": "[encoded data removed]",
      "text/plain": [
       "<Figure size 900x468 with 1 Axes>"
      ]
     },
     "metadata": {
      "needs_background": "light"
     },
     "output_type": "display_data"
    }
   ],
   "source": [
    "plt.rcParams[\"figure.figsize\"] = [12.50, 6.50]\n",
    "plt.rcParams[\"figure.autolayout\"] = True\n",
    "plt.bar(nombres_agentes, numero_documentos, color='r')\n",
    "plt.grid()\n",
    "plt.show(x_pos)"
   ]
  }
 ],
 "metadata": {
  "kernelspec": {
   "display_name": "Python 3 (ipykernel)",
   "language": "python",
   "name": "python3"
  },
  "language_info": {
   "codemirror_mode": {
    "name": "ipython",
    "version": 3
   },
   "file_extension": ".py",
   "mimetype": "text/x-python",
   "name": "python",
   "nbconvert_exporter": "python",
   "pygments_lexer": "ipython3",
   "version": "3.10.4"
  }
 },
 "nbformat": 4,
 "nbformat_minor": 5
}
