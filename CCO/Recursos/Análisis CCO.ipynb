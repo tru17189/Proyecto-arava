{
 "cells": [
  {
   "cell_type": "code",
   "execution_count": 2,
   "id": "cccb536a",
   "metadata": {},
   "outputs": [],
   "source": [
    "import pandas as pd"
   ]
  },
  {
   "cell_type": "code",
   "execution_count": 3,
   "id": "13da3db6",
   "metadata": {},
   "outputs": [],
   "source": [
    "import matplotlib.pyplot as plt"
   ]
  },
  {
   "cell_type": "code",
   "execution_count": 4,
   "id": "eb29462b",
   "metadata": {},
   "outputs": [],
   "source": [
    "data = pd.read_excel (r'OS_CCO.xlsx')"
   ]
  },
  {
   "cell_type": "code",
   "execution_count": 5,
   "id": "7a1f12c4",
   "metadata": {},
   "outputs": [],
   "source": [
    "mes = ['Enero', 'Febrero', 'Marzo', 'Abril', 'Mayo', 'Junio', 'Julio', 'Agosto']"
   ]
  },
  {
   "cell_type": "code",
   "execution_count": 6,
   "id": "fe417695",
   "metadata": {},
   "outputs": [],
   "source": [
    "total = [0, 0, 0, 0, 0, 0, 0, 0]\n",
    "for a, b, c in zip(data['Mes'], data['Anualdo'], data['Year']):\n",
    "    if c == 2022:\n",
    "        if a == 'Enero' and b == False:\n",
    "            total[0] = total[0] + 1\n",
    "        elif a == 'Febrero' and b == False:\n",
    "            total[1] = total[1] + 1\n",
    "        elif a == 'Marzo' and b == False:\n",
    "            total[2] = total[2] + 1\n",
    "        elif a == 'Abril' and b == False:\n",
    "            total[3] = total[3] + 1\n",
    "        elif a == 'Mayo' and b == False:\n",
    "            total[4] = total[4] + 1\n",
    "        elif a == 'Junio' and b == False:\n",
    "            total[5] = total[5] + 1\n",
    "        elif a == 'Julio' and b == False:\n",
    "            total[6] = total[6] + 1\n",
    "        elif a == 'Agosto' and b == False:\n",
    "            total[7] = total[7] + 1"
   ]
  },
  {
   "cell_type": "code",
   "execution_count": 7,
   "id": "3175fcad",
   "metadata": {},
   "outputs": [],
   "source": [
    "anuladas = [0, 0, 0, 0, 0, 0, 0, 0]\n",
    "for a, b, c in zip(data['Mes'], data['Anualdo'], data['Year']):\n",
    "    if c == 2022:\n",
    "        if a == 'Enero' and b == True:\n",
    "            anuladas[0] = anuladas[0] + 1\n",
    "        elif a == 'Febrero' and b == True:\n",
    "            anuladas[1] = anuladas[1] + 1\n",
    "        elif a == 'Marzo' and b == True:\n",
    "            anuladas[2] = anuladas[2] + 1\n",
    "        elif a == 'Abril' and b == True:\n",
    "            anuladas[3] = anuladas[3] + 1\n",
    "        elif a == 'Mayo' and b == True:\n",
    "            anuladas[4] = anuladas[4] + 1\n",
    "        elif a == 'Junio' and b == True:\n",
    "            anuladas[5] = anuladas[5] + 1\n",
    "        elif a == 'Julio' and b == True:\n",
    "            anuladas[6] = anuladas[6] + 1\n",
    "        elif a == 'Agosto' and b == True:\n",
    "            anuladas[7] = anuladas[7] + 1"
   ]
  },
  {
   "cell_type": "code",
   "execution_count": 8,
   "id": "5ca5e568",
   "metadata": {},
   "outputs": [],
   "source": [
    "e = 0\n",
    "p = []\n",
    "for i in mes:\n",
    "    if total[e] == 0:\n",
    "        pass\n",
    "    else:\n",
    "        porcentaje = round((anuladas[e]/total[e])*100, 1)\n",
    "        p.append(porcentaje)\n",
    "        mes[e] += \"\\n%\"+str(porcentaje)\n",
    "    e += 1"
   ]
  },
  {
   "cell_type": "code",
   "execution_count": 9,
   "id": "97a75277",
   "metadata": {},
   "outputs": [
    {
     "data": {
      "image/png": "[encoded data removed]",
      "text/plain": [
       "<Figure size 432x288 with 1 Axes>"
      ]
     },
     "metadata": {
      "needs_background": "light"
     },
     "output_type": "display_data"
    }
   ],
   "source": [
    "plt.bar(mes, anuladas, color='r')\n",
    "plt.bar(mes, total, bottom=anuladas, color='b')\n",
    "plt.grid()\n",
    "plt.show()"
   ]
  },
  {
   "cell_type": "code",
   "execution_count": 10,
   "id": "0ae26af7",
   "metadata": {},
   "outputs": [
    {
     "name": "stdout",
     "output_type": "stream",
     "text": [
      "Promedio de ordenes anuladas al mes: % 6.9\n"
     ]
    }
   ],
   "source": [
    "print(\"Promedio de ordenes anuladas al mes: %\",round(sum(p)/len(p), 1))"
   ]
  }
 ],
 "metadata": {
  "kernelspec": {
   "display_name": "Python 3 (ipykernel)",
   "language": "python",
   "name": "python3"
  },
  "language_info": {
   "codemirror_mode": {
    "name": "ipython",
    "version": 3
   },
   "file_extension": ".py",
   "mimetype": "text/x-python",
   "name": "python",
   "nbconvert_exporter": "python",
   "pygments_lexer": "ipython3",
   "version": "3.10.4"
  }
 },
 "nbformat": 4,
 "nbformat_minor": 5
}
