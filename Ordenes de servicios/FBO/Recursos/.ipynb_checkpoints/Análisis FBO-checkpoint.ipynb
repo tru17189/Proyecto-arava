{
 "cells": [
  {
   "cell_type": "code",
   "execution_count": 36,
   "id": "cccb536a",
   "metadata": {},
   "outputs": [],
   "source": [
    "import pandas as pd"
   ]
  },
  {
   "cell_type": "code",
   "execution_count": 37,
   "id": "13da3db6",
   "metadata": {},
   "outputs": [],
   "source": [
    "import matplotlib.pyplot as plt"
   ]
  },
  {
   "cell_type": "code",
   "execution_count": 38,
   "id": "eb29462b",
   "metadata": {},
   "outputs": [],
   "source": [
    "data = pd.read_excel (r'OS_FBO.xlsx')"
   ]
  },
  {
   "cell_type": "code",
   "execution_count": 39,
   "id": "7a1f12c4",
   "metadata": {},
   "outputs": [],
   "source": [
    "mes = ['Enero', 'Febrero', 'Marzo', 'Abril', 'Mayo', 'Junio', 'Julio', 'Agosto', 'Septiembre', 'Octubre']"
   ]
  },
  {
   "cell_type": "code",
   "execution_count": 40,
   "id": "fe417695",
   "metadata": {},
   "outputs": [],
   "source": [
    "total = [0, 0, 0, 0, 0, 0, 0, 0]\n",
    "for a, b, c in zip(data['Mes'], data['Anulado'], data['Year']):\n",
    "    if c == 2022:\n",
    "        if a == 'Enero' and b == False:\n",
    "            total[0] = total[0] + 1\n",
    "        elif a == 'Febrero' and b == False:\n",
    "            total[1] = total[1] + 1\n",
    "        elif a == 'Marzo' and b == False:\n",
    "            total[2] = total[2] + 1\n",
    "        elif a == 'Abril' and b == False:\n",
    "            total[3] = total[3] + 1\n",
    "        elif a == 'Mayo' and b == False:\n",
    "            total[4] = total[4] + 1\n",
    "        elif a == 'Junio' and b == False:\n",
    "            total[5] = total[5] + 1\n",
    "        elif a == 'Julio' and b == False:\n",
    "            total[6] = total[6] + 1\n",
    "        elif a == 'Agosto' and b == False:\n",
    "            total[7] = total[7] + 1\n",
    "        elif a == 'Septiembre' and b == False:\n",
    "            total[8] = total[8] + 1\n",
    "        elif a == 'Octubre' and b == False:\n",
    "            total[9] = total[9] + 1"
   ]
  },
  {
   "cell_type": "code",
   "execution_count": 41,
   "id": "3175fcad",
   "metadata": {},
   "outputs": [],
   "source": [
    "anuladas = [0, 0, 0, 0, 0, 0, 0, 0]\n",
    "for a, b, c in zip(data['Mes'], data['Anulado'], data['Year']):\n",
    "    if c == 2022:\n",
    "        if a == 'Enero' and b == True:\n",
    "            anuladas[0] = anuladas[0] + 1\n",
    "        elif a == 'Febrero' and b == True:\n",
    "            anuladas[1] = anuladas[1] + 1\n",
    "        elif a == 'Marzo' and b == True:\n",
    "            anuladas[2] = anuladas[2] + 1\n",
    "        elif a == 'Abril' and b == True:\n",
    "            anuladas[3] = anuladas[3] + 1\n",
    "        elif a == 'Mayo' and b == True:\n",
    "            anuladas[4] = anuladas[4] + 1\n",
    "        elif a == 'Junio' and b == True:\n",
    "            anuladas[5] = anuladas[5] + 1\n",
    "        elif a == 'Julio' and b == True:\n",
    "            anuladas[6] = anuladas[6] + 1\n",
    "        elif a == 'Agosto' and b == True:\n",
    "            anuladas[7] = anuladas[7] + 1\n",
    "        elif a == 'Septiembre' and b == True:\n",
    "            anuladas[8] = anuladas[8] + 1\n",
    "        elif a == 'Octubre' and b == True:\n",
    "            anuladas[9] = anuladas[9] + 1"
   ]
  },
  {
   "cell_type": "code",
   "execution_count": 42,
   "id": "5ca5e568",
   "metadata": {},
   "outputs": [
    {
     "ename": "IndexError",
     "evalue": "list index out of range",
     "output_type": "error",
     "traceback": [
      "\u001b[1;31m---------------------------------------------------------------------------\u001b[0m",
      "\u001b[1;31mIndexError\u001b[0m                                Traceback (most recent call last)",
      "Input \u001b[1;32mIn [42]\u001b[0m, in \u001b[0;36m<module>\u001b[1;34m\u001b[0m\n\u001b[0;32m      2\u001b[0m p \u001b[38;5;241m=\u001b[39m []\n\u001b[0;32m      3\u001b[0m \u001b[38;5;28;01mfor\u001b[39;00m i \u001b[38;5;129;01min\u001b[39;00m mes:\n\u001b[1;32m----> 4\u001b[0m     porcentaje \u001b[38;5;241m=\u001b[39m \u001b[38;5;28mround\u001b[39m((\u001b[43manuladas\u001b[49m\u001b[43m[\u001b[49m\u001b[43me\u001b[49m\u001b[43m]\u001b[49m\u001b[38;5;241m/\u001b[39mtotal[e])\u001b[38;5;241m*\u001b[39m\u001b[38;5;241m100\u001b[39m, \u001b[38;5;241m1\u001b[39m)\n\u001b[0;32m      5\u001b[0m     p\u001b[38;5;241m.\u001b[39mappend(porcentaje)\n\u001b[0;32m      6\u001b[0m     mes[e] \u001b[38;5;241m+\u001b[39m\u001b[38;5;241m=\u001b[39m \u001b[38;5;124m\"\u001b[39m\u001b[38;5;130;01m\\n\u001b[39;00m\u001b[38;5;124m%\u001b[39m\u001b[38;5;124m\"\u001b[39m\u001b[38;5;241m+\u001b[39m\u001b[38;5;28mstr\u001b[39m(porcentaje)\n",
      "\u001b[1;31mIndexError\u001b[0m: list index out of range"
     ]
    }
   ],
   "source": [
    "e = 0\n",
    "p = []\n",
    "for i in mes:\n",
    "    porcentaje = round((anuladas[e]/total[e])*100, 1)\n",
    "    p.append(porcentaje)\n",
    "    mes[e] += \"\\n%\"+str(porcentaje)\n",
    "    e += 1"
   ]
  },
  {
   "cell_type": "code",
   "execution_count": null,
   "id": "97a75277",
   "metadata": {},
   "outputs": [],
   "source": [
    "plt.bar(mes, anuladas, color='r')\n",
    "plt.bar(mes, total, bottom=anuladas, color='b')\n",
    "plt.grid()\n",
    "plt.show()"
   ]
  },
  {
   "cell_type": "code",
   "execution_count": null,
   "id": "0ae26af7",
   "metadata": {},
   "outputs": [],
   "source": [
    "print(\"Promedio de ordenes anuladas al mes: %\",round(sum(p)/len(p), 1))"
   ]
  }
 ],
 "metadata": {
  "kernelspec": {
   "display_name": "Python 3 (ipykernel)",
   "language": "python",
   "name": "python3"
  },
  "language_info": {
   "codemirror_mode": {
    "name": "ipython",
    "version": 3
   },
   "file_extension": ".py",
   "mimetype": "text/x-python",
   "name": "python",
   "nbconvert_exporter": "python",
   "pygments_lexer": "ipython3",
   "version": "3.10.4"
  }
 },
 "nbformat": 4,
 "nbformat_minor": 5
}
